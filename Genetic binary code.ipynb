{
 "cells": [
  {
   "cell_type": "markdown",
   "id": "unable-score",
   "metadata": {},
   "source": [
    "<h1>Binary genetic code</h1>"
   ]
  },
  {
   "cell_type": "code",
   "execution_count": 5,
   "id": "rolled-beach",
   "metadata": {},
   "outputs": [],
   "source": [
    "#importación\n",
    "import matplotlib.pyplot as plt\n",
    "import numpy as np\n",
    "import math"
   ]
  },
  {
   "cell_type": "code",
   "execution_count": 6,
   "id": "owned-profession",
   "metadata": {},
   "outputs": [],
   "source": [
    "#Función aleatoria\n",
    "def fx(x):\n",
    "    return -(0.1+(1-x)**2-0.1*math.cos(6*math.pi*(1-x)))+2"
   ]
  },
  {
   "cell_type": "code",
   "execution_count": 7,
   "id": "beautiful-finance",
   "metadata": {},
   "outputs": [],
   "source": [
    "#Representamos la función\n",
    "y_axis = []\n",
    "x_axis=np.arange(-4,4,1e-1)\n",
    "\n",
    "for num in x_axis:\n",
    "    y_axis.append(fx(num))"
   ]
  },
  {
   "cell_type": "code",
   "execution_count": 8,
   "id": "alternate-gauge",
   "metadata": {},
   "outputs": [],
   "source": [
    "#Como en binario funciona mejor\n",
    "def bin_decimal(num_binario):\n",
    "    binario=0\n",
    "    for i in range(len(num_binario)):\n",
    "        binario += num_binario[-i-1]*2**(i)\n",
    "    return binario"
   ]
  },
  {
   "cell_type": "code",
   "execution_count": 9,
   "id": "accessory-tucson",
   "metadata": {},
   "outputs": [
    {
     "data": {
      "text/plain": [
       "-1.7502"
      ]
     },
     "execution_count": 9,
     "metadata": {},
     "output_type": "execute_result"
    }
   ],
   "source": [
    "#Ejemplo funcional\n",
    "individuo = [[-1],[0,1],[1,1,1,0,1,0,1,0,0,1,1,1,0]]\n",
    "bin_decimal(individuo[0])*(bin_decimal(individuo[1])+(bin_decimal(individuo[2])/(10**len(str(bin_decimal(individuo[2]))))))"
   ]
  },
  {
   "cell_type": "code",
   "execution_count": 10,
   "id": "disciplinary-salon",
   "metadata": {},
   "outputs": [
    {
     "data": {
      "text/plain": [
       "[[array([-1]),\n",
       "  array([0, 0]),\n",
       "  array([0, 0, 1, 1, 0, 0, 0, 1, 1, 1, 1, 1, 1, 0, 1, 1, 1, 0, 1, 0, 1, 1,\n",
       "         0, 0, 1])],\n",
       " [array([1]),\n",
       "  array([0, 1]),\n",
       "  array([0, 0, 1, 0, 0, 0, 1, 0, 0, 0, 1, 0, 0, 1, 1, 1, 0, 1, 0, 1, 1, 0,\n",
       "         1, 0, 0])],\n",
       " [array([-1]),\n",
       "  array([1, 0]),\n",
       "  array([1, 0, 0, 0, 0, 1, 1, 1, 0, 1, 1, 0, 1, 1, 0, 1, 1, 0, 0, 1, 1, 1,\n",
       "         1, 0, 0])],\n",
       " [array([1]),\n",
       "  array([0, 1]),\n",
       "  array([1, 1, 0, 1, 1, 1, 1, 1, 0, 1, 1, 0, 0, 1, 0, 0, 0, 1, 1, 1, 1, 0,\n",
       "         1, 1, 0])],\n",
       " [array([1]),\n",
       "  array([1, 1]),\n",
       "  array([0, 1, 1, 0, 1, 1, 1, 1, 0, 0, 0, 1, 1, 1, 0, 1, 0, 1, 0, 1, 1, 0,\n",
       "         0, 0, 0])],\n",
       " [array([1]),\n",
       "  array([1, 0]),\n",
       "  array([1, 1, 0, 1, 0, 1, 1, 0, 0, 1, 1, 1, 0, 0, 1, 1, 1, 1, 1, 1, 1, 1,\n",
       "         1, 1, 0])],\n",
       " [array([1]),\n",
       "  array([0, 1]),\n",
       "  array([1, 1, 1, 1, 1, 0, 0, 0, 1, 1, 1, 0, 0, 0, 1, 1, 0, 1, 0, 0, 0, 0,\n",
       "         1, 1, 1])],\n",
       " [array([1]),\n",
       "  array([0, 0]),\n",
       "  array([1, 0, 1, 1, 0, 1, 1, 1, 0, 0, 0, 0, 1, 1, 0, 1, 0, 0, 0, 1, 1, 1,\n",
       "         0, 1, 0])],\n",
       " [array([-1]),\n",
       "  array([1, 1]),\n",
       "  array([1, 0, 0, 0, 0, 1, 1, 1, 1, 0, 1, 0, 0, 0, 1, 0, 0, 0, 0, 0, 0, 1,\n",
       "         1, 0, 1])],\n",
       " [array([1]),\n",
       "  array([0, 0]),\n",
       "  array([1, 1, 0, 0, 1, 0, 1, 1, 1, 0, 0, 0, 0, 1, 0, 0, 1, 1, 1, 1, 1, 1,\n",
       "         0, 0, 1])]]"
      ]
     },
     "execution_count": 10,
     "metadata": {},
     "output_type": "execute_result"
    }
   ],
   "source": [
    "poblacion = []\n",
    "genetic_pool = [1,-1],[0,1],[0,1]\n",
    "#Población de 100 puntos:\n",
    "for i in range(100):\n",
    "    individuo = list([np.random.choice(genetic_pool[0],1),np.random.choice(genetic_pool[1],2),np.random.choice(genetic_pool[2],25)])\n",
    "    poblacion.append(individuo)\n",
    "poblacion[:10]"
   ]
  },
  {
   "cell_type": "code",
   "execution_count": 11,
   "id": "toxic-broadcasting",
   "metadata": {},
   "outputs": [
    {
     "data": {
      "text/plain": [
       "[<matplotlib.lines.Line2D at 0x7fc60ca5eb90>]"
      ]
     },
     "execution_count": 11,
     "metadata": {},
     "output_type": "execute_result"
    },
    {
     "data": {
      "image/png": "[encoded data removed]",
      "text/plain": [
       "<Figure size 432x288 with 1 Axes>"
      ]
     },
     "metadata": {
      "needs_background": "light"
     },
     "output_type": "display_data"
    }
   ],
   "source": [
    "for individuo in poblacion:\n",
    "    x = bin_decimal(individuo[0])*(bin_decimal(individuo[1])+(bin_decimal(individuo[2])/(10**len(str(bin_decimal(individuo[2]))))))\n",
    "    y = fx(x)\n",
    "    plt.plot(x,y,'x')\n",
    "plt.plot(x_axis,y_axis)"
   ]
  },
  {
   "cell_type": "code",
   "execution_count": 12,
   "id": "olympic-composer",
   "metadata": {},
   "outputs": [],
   "source": [
    "fitness =[]\n",
    "\n",
    "for individuo in poblacion:\n",
    "    x = bin_decimal(individuo[0])*(bin_decimal(individuo[1])+(bin_decimal(individuo[2])/(10**len(str(bin_decimal(individuo[2]))))))\n",
    "    y = fx(x)\n",
    "    fitness += [y]\n",
    "    \n",
    "fitness = np.array(fitness-min(fitness))\n",
    "\n",
    "fitness=np.sqrt((fitness/fitness.sum())**2)"
   ]
  },
  {
   "cell_type": "code",
   "execution_count": 13,
   "id": "welcome-process",
   "metadata": {},
   "outputs": [
    {
     "data": {
      "text/plain": [
       "array([0.01129432, 0.01290951, 0.00618218, 0.01307334, 0.00990391,\n",
       "       0.01200906, 0.01307754, 0.01267869, 0.00120236, 0.0127396 ])"
      ]
     },
     "execution_count": 13,
     "metadata": {},
     "output_type": "execute_result"
    }
   ],
   "source": [
    "fitness[:10]"
   ]
  },
  {
   "cell_type": "code",
   "execution_count": 14,
   "id": "designing-norway",
   "metadata": {},
   "outputs": [],
   "source": [
    "size_poblacion = len(poblacion)\n",
    "offspring = []\n",
    "for j in range(size_poblacion):\n",
    "    ind_size = len(str(bin_decimal(individuo[2])))\n",
    "    for i in range(size_poblacion//2):\n",
    "        parents = np.random.choice(size_poblacion, 2, p=fitness)\n",
    "        cross_point = np.random.randint(ind_size)\n",
    "        offspring += [poblacion[parents[0]][:cross_point] + poblacion[parents[1]][cross_point:]]\n",
    "        offspring += [poblacion[parents[1]][:cross_point] + poblacion[parents[0]][cross_point:]]"
   ]
  },
  {
   "cell_type": "code",
   "execution_count": 15,
   "id": "blond-administration",
   "metadata": {},
   "outputs": [
    {
     "data": {
      "text/plain": [
       "[[array([1]),\n",
       "  array([1, 0]),\n",
       "  array([1, 1, 0, 1, 0, 1, 0, 0, 1, 1, 0, 1, 0, 1, 1, 0, 1, 1, 0, 0, 1, 1,\n",
       "         0, 1, 0])],\n",
       " [array([1]),\n",
       "  array([1, 1]),\n",
       "  array([1, 0, 0, 1, 1, 1, 1, 0, 1, 1, 0, 0, 1, 0, 0, 0, 0, 0, 1, 1, 1, 0,\n",
       "         1, 0, 1])],\n",
       " [array([1]),\n",
       "  array([1, 1]),\n",
       "  array([0, 0, 0, 0, 0, 0, 1, 0, 0, 0, 0, 0, 0, 0, 1, 1, 0, 0, 1, 1, 0, 0,\n",
       "         0, 1, 0])],\n",
       " [array([1]),\n",
       "  array([1, 0]),\n",
       "  array([1, 1, 0, 1, 0, 0, 0, 0, 0, 1, 0, 0, 0, 0, 1, 1, 0, 1, 0, 1, 0, 1,\n",
       "         1, 0, 1])],\n",
       " [array([1]),\n",
       "  array([0, 1]),\n",
       "  array([0, 0, 0, 1, 0, 0, 0, 0, 0, 0, 0, 1, 1, 1, 1, 0, 0, 1, 1, 1, 0, 0,\n",
       "         1, 0, 1])],\n",
       " [array([1]),\n",
       "  array([1, 0]),\n",
       "  array([0, 1, 0, 1, 1, 0, 1, 1, 0, 0, 0, 0, 1, 0, 0, 0, 1, 0, 1, 0, 1, 0,\n",
       "         0, 0, 1])],\n",
       " [array([1]),\n",
       "  array([1, 0]),\n",
       "  array([0, 0, 1, 0, 0, 0, 1, 1, 1, 0, 1, 0, 1, 1, 0, 0, 0, 1, 0, 1, 0, 1,\n",
       "         1, 0, 0])],\n",
       " [array([1]),\n",
       "  array([1, 0]),\n",
       "  array([1, 0, 1, 0, 1, 1, 0, 1, 0, 0, 0, 0, 0, 0, 1, 0, 1, 1, 0, 1, 0, 1,\n",
       "         1, 1, 1])],\n",
       " [array([-1]),\n",
       "  array([0, 0]),\n",
       "  array([0, 1, 0, 0, 1, 0, 0, 1, 1, 1, 0, 0, 0, 1, 0, 1, 1, 0, 0, 1, 1, 0,\n",
       "         1, 1, 0])],\n",
       " [array([1]),\n",
       "  array([0, 1]),\n",
       "  array([1, 1, 0, 1, 0, 1, 0, 0, 0, 1, 1, 1, 0, 1, 1, 1, 1, 0, 0, 1, 0, 0,\n",
       "         0, 1, 0])]]"
      ]
     },
     "execution_count": 15,
     "metadata": {},
     "output_type": "execute_result"
    }
   ],
   "source": [
    "offspring[:10]"
   ]
  },
  {
   "cell_type": "code",
   "execution_count": 16,
   "id": "judicial-configuration",
   "metadata": {},
   "outputs": [
    {
     "data": {
      "text/plain": [
       "[<matplotlib.lines.Line2D at 0x7fc60cf13290>]"
      ]
     },
     "execution_count": 16,
     "metadata": {},
     "output_type": "execute_result"
    },
    {
     "data": {
      "image/png": "[encoded data removed]",
      "text/plain": [
       "<Figure size 432x288 with 1 Axes>"
      ]
     },
     "metadata": {
      "needs_background": "light"
     },
     "output_type": "display_data"
    }
   ],
   "source": [
    "poblacion = offspring\n",
    "for individuo in poblacion:\n",
    "    x = bin_decimal(individuo[0])*(bin_decimal(individuo[1])+(bin_decimal(individuo[2])/(10**len(str(bin_decimal(individuo[2]))))))\n",
    "    y = fx(x)\n",
    "    plt.plot(x,y,'x')\n",
    "plt.plot(x_axis,y_axis)"
   ]
  },
  {
   "cell_type": "code",
   "execution_count": 17,
   "id": "later-alarm",
   "metadata": {},
   "outputs": [],
   "source": [
    "#No se puede copiar las mutaciones de arriba porque el pool tan solo tiene 1 lista. Está como el culo\n",
    "def mutate(individuals, prob, pool):\n",
    "    for i in range(len(individuals)):\n",
    "        mutate_individual=individuals[i]\n",
    "        if np.random.random() < prob:\n",
    "            mutation = [np.random.choice(pool[0]),np.random.choice(pool[1]),np.random.choice(pool[2])]\n",
    "            mutate_individual = [mutation] + mutate_individual[1:]\n",
    "                \n",
    "            \n",
    "        individuals[i] = mutate_individual"
   ]
  },
  {
   "cell_type": "code",
   "execution_count": 18,
   "id": "broke-apartment",
   "metadata": {},
   "outputs": [
    {
     "data": {
      "text/plain": [
       "[[array([1]),\n",
       "  array([1, 0]),\n",
       "  array([1, 1, 0, 1, 0, 1, 0, 0, 1, 1, 0, 1, 0, 1, 1, 0, 1, 1, 0, 0, 1, 1,\n",
       "         0, 1, 0])],\n",
       " [array([1]),\n",
       "  array([1, 1]),\n",
       "  array([1, 0, 0, 1, 1, 1, 1, 0, 1, 1, 0, 0, 1, 0, 0, 0, 0, 0, 1, 1, 1, 0,\n",
       "         1, 0, 1])],\n",
       " [array([1]),\n",
       "  array([1, 1]),\n",
       "  array([0, 0, 0, 0, 0, 0, 1, 0, 0, 0, 0, 0, 0, 0, 1, 1, 0, 0, 1, 1, 0, 0,\n",
       "         0, 1, 0])],\n",
       " [array([1]),\n",
       "  array([1, 0]),\n",
       "  array([1, 1, 0, 1, 0, 0, 0, 0, 0, 1, 0, 0, 0, 0, 1, 1, 0, 1, 0, 1, 0, 1,\n",
       "         1, 0, 1])],\n",
       " [array([1]),\n",
       "  array([0, 1]),\n",
       "  array([0, 0, 0, 1, 0, 0, 0, 0, 0, 0, 0, 1, 1, 1, 1, 0, 0, 1, 1, 1, 0, 0,\n",
       "         1, 0, 1])],\n",
       " [array([1]),\n",
       "  array([1, 0]),\n",
       "  array([0, 1, 0, 1, 1, 0, 1, 1, 0, 0, 0, 0, 1, 0, 0, 0, 1, 0, 1, 0, 1, 0,\n",
       "         0, 0, 1])],\n",
       " [array([1]),\n",
       "  array([1, 0]),\n",
       "  array([0, 0, 1, 0, 0, 0, 1, 1, 1, 0, 1, 0, 1, 1, 0, 0, 0, 1, 0, 1, 0, 1,\n",
       "         1, 0, 0])],\n",
       " [array([1]),\n",
       "  array([1, 0]),\n",
       "  array([1, 0, 1, 0, 1, 1, 0, 1, 0, 0, 0, 0, 0, 0, 1, 0, 1, 1, 0, 1, 0, 1,\n",
       "         1, 1, 1])],\n",
       " [array([-1]),\n",
       "  array([0, 0]),\n",
       "  array([0, 1, 0, 0, 1, 0, 0, 1, 1, 1, 0, 0, 0, 1, 0, 1, 1, 0, 0, 1, 1, 0,\n",
       "         1, 1, 0])],\n",
       " [array([1]),\n",
       "  array([0, 1]),\n",
       "  array([1, 1, 0, 1, 0, 1, 0, 0, 0, 1, 1, 1, 0, 1, 1, 1, 1, 0, 0, 1, 0, 0,\n",
       "         0, 1, 0])]]"
      ]
     },
     "execution_count": 18,
     "metadata": {},
     "output_type": "execute_result"
    }
   ],
   "source": [
    "mutate(poblacion,0.005,genetic_pool)\n",
    "poblacion[:10]"
   ]
  },
  {
   "cell_type": "code",
   "execution_count": null,
   "id": "nasty-mixer",
   "metadata": {},
   "outputs": [
    {
     "name": "stdout",
     "output_type": "stream",
     "text": [
      "1\n",
      "2\n",
      "3\n",
      "4\n",
      "5\n",
      "6\n",
      "7\n",
      "8\n",
      "9\n",
      "10\n",
      "11\n",
      "12\n",
      "13\n",
      "14\n",
      "15\n",
      "16\n",
      "17\n",
      "18\n",
      "19\n",
      "20\n",
      "21\n",
      "22\n",
      "23\n",
      "24\n",
      "25\n",
      "26\n",
      "27\n",
      "28\n",
      "29\n",
      "30\n",
      "31\n",
      "32\n",
      "33\n",
      "34\n",
      "35\n",
      "36\n",
      "37\n",
      "38\n"
     ]
    }
   ],
   "source": [
    "#Programa principal y aumento de las generaciones\n",
    "generaciones = 100\n",
    "\n",
    "for _ in range(generaciones):\n",
    "    #Le pongo un contador porque tarda un poco en hacer todas las generaciones\n",
    "    print(_+1)\n",
    "    fitness =[]\n",
    "\n",
    "    #extraigo los valores de y para medir su probabilidad de ser escogidos de nuevo\n",
    "    for individuo in poblacion:\n",
    "        x = bin_decimal(individuo[0])*(bin_decimal(individuo[1])+(bin_decimal(individuo[2])/(10**len(str(bin_decimal(individuo[2]))))))\n",
    "        y = fx(x)\n",
    "        fitness += [y]\n",
    "\n",
    "    #convierto fitnees en un vector\n",
    "    fitness = np.array(fitness-min(fitness))\n",
    "\n",
    "    #procentajes\n",
    "    fitness=fitness/fitness.sum()    \n",
    "        \n",
    "    size_poblacion = len(poblacion)\n",
    "    # se reproducen los mejores individuos\n",
    "    offspring = []\n",
    "    for i in range(size_poblacion//2):\n",
    "        parents = np.random.choice(size_poblacion, 2, p=fitness)\n",
    "        cross_point = np.random.randint(ind_size)\n",
    "        offspring += [poblacion[parents[0]][:cross_point] + poblacion[parents[1]][cross_point:]]\n",
    "        offspring += [poblacion[parents[1]][:cross_point] + poblacion[parents[0]][cross_point:]]    \n",
    "    \n",
    "    poblacion = offspring\n",
    "    \n",
    "    #####\n",
    "    # MUTACIONES\n",
    "    ####\n",
    "     \n",
    "    mutate(poblacion,0.005,genetic_pool)"
   ]
  },
  {
   "cell_type": "code",
   "execution_count": null,
   "id": "laughing-venezuela",
   "metadata": {},
   "outputs": [],
   "source": [
    "for individuo in poblacion:\n",
    "    x = bin_decimal(individuo[0])*(bin_decimal(individuo[1])+(bin_decimal(individuo[2])/(10**len(str(bin_decimal(individuo[2]))))))\n",
    "    y = fx(x)\n",
    "    plt.plot(x,y,'x')\n",
    "plt.plot(x_axis,y_axis)"
   ]
  },
  {
   "cell_type": "code",
   "execution_count": null,
   "id": "corresponding-silly",
   "metadata": {},
   "outputs": [],
   "source": [
    "np.where(fitness == fitness.max())"
   ]
  },
  {
   "cell_type": "code",
   "execution_count": null,
   "id": "entertaining-blues",
   "metadata": {},
   "outputs": [],
   "source": [
    "individuo = poblacion [4238]"
   ]
  },
  {
   "cell_type": "code",
   "execution_count": null,
   "id": "liberal-generation",
   "metadata": {},
   "outputs": [],
   "source": [
    "bin_decimal(individuo[0])*(bin_decimal(individuo[1])+(bin_decimal(individuo[2])/(10**len(str(bin_decimal(individuo[2]))))))"
   ]
  }
 ],
 "metadata": {
  "kernelspec": {
   "display_name": "Python 3",
   "language": "python",
   "name": "python3"
  },
  "language_info": {
   "codemirror_mode": {
    "name": "ipython",
    "version": 3
   },
   "file_extension": ".py",
   "mimetype": "text/x-python",
   "name": "python",
   "nbconvert_exporter": "python",
   "pygments_lexer": "ipython3",
   "version": "3.7.10"
  }
 },
 "nbformat": 4,
 "nbformat_minor": 5
}
